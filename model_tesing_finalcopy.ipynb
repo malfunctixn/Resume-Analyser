{
 "cells": [
  {
   "cell_type": "markdown",
   "id": "43299c22",
   "metadata": {},
   "source": [
    "### Libraries Importing"
   ]
  },
  {
   "cell_type": "code",
   "execution_count": 1,
   "id": "32c921a4",
   "metadata": {},
   "outputs": [],
   "source": [
    "import warnings\n",
    "warnings.filterwarnings(\"ignore\")"
   ]
  },
  {
   "cell_type": "code",
   "execution_count": 2,
   "id": "a3530885",
   "metadata": {},
   "outputs": [],
   "source": [
    "import pickle\n",
    "import pandas as pd\n",
    "import numpy as np\n",
    "import matplotlib.pyplot as plt\n",
    "%matplotlib inline\n",
    "import seaborn as sns\n",
    "plt.rcParams['font.size']=20"
   ]
  },
  {
   "cell_type": "code",
   "execution_count": 3,
   "id": "bf3f674a",
   "metadata": {},
   "outputs": [],
   "source": [
    "import spacy\n",
    "from spacy.lang.en.stop_words import STOP_WORDS\n",
    "stopwords=set(STOP_WORDS)\n",
    "from spacy.lang.en import English\n",
    "parser=English()\n",
    "import string\n",
    "punctuations=string.punctuation"
   ]
  },
  {
   "cell_type": "code",
   "execution_count": 4,
   "id": "49eca093",
   "metadata": {},
   "outputs": [],
   "source": [
    "with open(file=\"label_names.pkl\",mode=\"rb\") as file:\n",
    "    label_names=pickle.load(file=file)"
   ]
  },
  {
   "cell_type": "code",
   "execution_count": 5,
   "id": "97bfefda",
   "metadata": {},
   "outputs": [
    {
     "name": "stdout",
     "output_type": "stream",
     "text": [
      "{1: 'Data Science', 4: 'HR', 12: 'Web Designing', 7: 'Mechanical Engineer', 10: 'Sales', 6: 'Java Developer', 8: 'Operations Manager', 9: 'Python Developer', 2: 'DevOps Engineer', 5: 'Hadoop', 3: 'ETL Developer', 0: 'Blockchain', 11: 'Testing'}\n"
     ]
    }
   ],
   "source": [
    "print(label_names)"
   ]
  },
  {
   "cell_type": "markdown",
   "id": "1175c2d3",
   "metadata": {},
   "source": [
    "### Model Loading"
   ]
  },
  {
   "cell_type": "code",
   "execution_count": 6,
   "id": "83e72e7b",
   "metadata": {},
   "outputs": [],
   "source": [
    "with open(file=\"model/RF_model.pkl\",mode=\"rb\") as file:\n",
    "    model=pickle.load(file=file)"
   ]
  },
  {
   "cell_type": "markdown",
   "id": "d2d69571",
   "metadata": {},
   "source": [
    "### Data Cleaning"
   ]
  },
  {
   "cell_type": "code",
   "execution_count": 7,
   "id": "83528b1e",
   "metadata": {},
   "outputs": [],
   "source": [
    "nlp=spacy.load(\"en_core_web_sm\")"
   ]
  },
  {
   "cell_type": "code",
   "execution_count": 8,
   "id": "5851a54d",
   "metadata": {},
   "outputs": [],
   "source": [
    "def preprocess_text(docx):\n",
    "    sentence=parser(docx)\n",
    "    sentence=[word.lemma_.lower().strip() if word.lemma_ != \"-PRON-\" else word.lower_ for word in sentence]\n",
    "    sentence=[word for word in sentence if word not in stopwords and word not in punctuations]\n",
    "    sentence=[word for word in sentence if len(word)>3 and word.isalpha()]\n",
    "    return sentence"
   ]
  },
  {
   "cell_type": "code",
   "execution_count": 9,
   "id": "567b44c5",
   "metadata": {},
   "outputs": [],
   "source": [
    "with open(file=\"model/tokens.pkl\",mode=\"rb\") as file:\n",
    "    tok=pickle.load(file=file)"
   ]
  },
  {
   "cell_type": "markdown",
   "id": "6ccab1c7",
   "metadata": {},
   "source": [
    "## User Input"
   ]
  },
  {
   "cell_type": "code",
   "execution_count": 308,
   "id": "15280b64",
   "metadata": {},
   "outputs": [
    {
     "name": "stdout",
     "output_type": "stream",
     "text": [
      "collaborative communication marketing sets entrepreneur basically cohesive manage meet cold science business management\n"
     ]
    }
   ],
   "source": [
    "input_string=input()"
   ]
  },
  {
   "cell_type": "code",
   "execution_count": 309,
   "id": "be226712",
   "metadata": {},
   "outputs": [
    {
     "data": {
      "text/plain": [
       "'collaborative communication marketing sets entrepreneur basically cohesive manage meet cold science business management'"
      ]
     },
     "execution_count": 309,
     "metadata": {},
     "output_type": "execute_result"
    }
   ],
   "source": [
    "input_string"
   ]
  },
  {
   "cell_type": "code",
   "execution_count": 310,
   "id": "41b9f1ea",
   "metadata": {},
   "outputs": [],
   "source": [
    "cleaned_text_data=preprocess_text(nlp(input_string))"
   ]
  },
  {
   "cell_type": "code",
   "execution_count": 311,
   "id": "d940b23d",
   "metadata": {},
   "outputs": [
    {
     "name": "stdout",
     "output_type": "stream",
     "text": [
      "['collaborative', 'communication', 'marketing', 'entrepreneur', 'basically', 'cohesive', 'manage', 'meet', 'cold', 'science', 'business', 'management']\n"
     ]
    }
   ],
   "source": [
    "print(cleaned_text_data)"
   ]
  },
  {
   "cell_type": "markdown",
   "id": "43cc034b",
   "metadata": {},
   "source": [
    "### Data Visualization"
   ]
  },
  {
   "cell_type": "code",
   "execution_count": 312,
   "id": "c5aa0600",
   "metadata": {},
   "outputs": [
    {
     "name": "stdout",
     "output_type": "stream",
     "text": [
      "[[501, 30, 67, 503, 174, 504, 10, 65, 177, 28, 11, 6]]\n"
     ]
    }
   ],
   "source": [
    "encd_text=tok.texts_to_sequences([cleaned_text_data])\n",
    "print(encd_text)"
   ]
  },
  {
   "cell_type": "code",
   "execution_count": 313,
   "id": "b057cde0",
   "metadata": {},
   "outputs": [
    {
     "name": "stdout",
     "output_type": "stream",
     "text": [
      "[[501  30  67 503 174 504  10  65 177  28  11   6   0   0   0   0   0   0\n",
      "    0   0   0   0   0   0   0   0   0   0   0   0   0   0   0   0   0   0\n",
      "    0   0   0   0   0   0   0   0   0   0   0   0   0   0   0   0   0   0\n",
      "    0   0   0   0   0   0   0   0   0   0   0   0   0   0   0   0   0   0\n",
      "    0   0   0   0   0   0   0   0   0   0   0   0   0   0   0   0   0   0\n",
      "    0   0   0   0   0   0   0   0   0   0]]\n"
     ]
    }
   ],
   "source": [
    "from tensorflow.keras.preprocessing.sequence import pad_sequences\n",
    "pad_text=pad_sequences(sequences=encd_text,maxlen=100,padding=\"post\")\n",
    "print(pad_text)"
   ]
  },
  {
   "cell_type": "markdown",
   "id": "15c64212",
   "metadata": {},
   "source": [
    "### Model Prediction"
   ]
  },
  {
   "cell_type": "code",
   "execution_count": 314,
   "id": "7dc6b6f3",
   "metadata": {},
   "outputs": [],
   "source": [
    "prediction=model.predict(pad_text)"
   ]
  },
  {
   "cell_type": "code",
   "execution_count": 315,
   "id": "b1574f9d",
   "metadata": {},
   "outputs": [
    {
     "data": {
      "text/plain": [
       "array([10])"
      ]
     },
     "execution_count": 315,
     "metadata": {},
     "output_type": "execute_result"
    }
   ],
   "source": [
    "prediction"
   ]
  },
  {
   "cell_type": "code",
   "execution_count": 316,
   "id": "0a836a23",
   "metadata": {},
   "outputs": [
    {
     "name": "stdout",
     "output_type": "stream",
     "text": [
      "Predicted Class is --------------> Sales\n"
     ]
    }
   ],
   "source": [
    "label=label_names[prediction[0]]\n",
    "print(\"Predicted Class is --------------> {}\".format(label))"
   ]
  },
  {
   "cell_type": "code",
   "execution_count": 163,
   "id": "38e413df",
   "metadata": {},
   "outputs": [],
   "source": [
    "test_data=pd.read_csv(\"input/ResumeData.csv\")"
   ]
  },
  {
   "cell_type": "code",
   "execution_count": 51,
   "id": "a12befbe",
   "metadata": {},
   "outputs": [
    {
     "data": {
      "text/html": [
       "<div>\n",
       "<style scoped>\n",
       "    .dataframe tbody tr th:only-of-type {\n",
       "        vertical-align: middle;\n",
       "    }\n",
       "\n",
       "    .dataframe tbody tr th {\n",
       "        vertical-align: top;\n",
       "    }\n",
       "\n",
       "    .dataframe thead th {\n",
       "        text-align: right;\n",
       "    }\n",
       "</style>\n",
       "<table border=\"1\" class=\"dataframe\">\n",
       "  <thead>\n",
       "    <tr style=\"text-align: right;\">\n",
       "      <th></th>\n",
       "      <th>Resume_ID</th>\n",
       "      <th>Category</th>\n",
       "      <th>Resume</th>\n",
       "    </tr>\n",
       "  </thead>\n",
       "  <tbody>\n",
       "    <tr>\n",
       "      <th>0</th>\n",
       "      <td>1001</td>\n",
       "      <td>Data Science</td>\n",
       "      <td>Skills * Programming Languages: Python (pandas...</td>\n",
       "    </tr>\n",
       "    <tr>\n",
       "      <th>1</th>\n",
       "      <td>1002</td>\n",
       "      <td>Data Science</td>\n",
       "      <td>Education Details \\r\\nMay 2013 to May 2017 B.E...</td>\n",
       "    </tr>\n",
       "    <tr>\n",
       "      <th>2</th>\n",
       "      <td>1003</td>\n",
       "      <td>Data Science</td>\n",
       "      <td>Areas of Interest Deep Learning, Control Syste...</td>\n",
       "    </tr>\n",
       "    <tr>\n",
       "      <th>3</th>\n",
       "      <td>1004</td>\n",
       "      <td>Data Science</td>\n",
       "      <td>Skills â¢ R â¢ Python â¢ SAP HANA â¢ Table...</td>\n",
       "    </tr>\n",
       "    <tr>\n",
       "      <th>4</th>\n",
       "      <td>1005</td>\n",
       "      <td>Data Science</td>\n",
       "      <td>Education Details \\r\\n MCA   YMCAUST,  Faridab...</td>\n",
       "    </tr>\n",
       "  </tbody>\n",
       "</table>\n",
       "</div>"
      ],
      "text/plain": [
       "   Resume_ID      Category                                             Resume\n",
       "0       1001  Data Science  Skills * Programming Languages: Python (pandas...\n",
       "1       1002  Data Science  Education Details \\r\\nMay 2013 to May 2017 B.E...\n",
       "2       1003  Data Science  Areas of Interest Deep Learning, Control Syste...\n",
       "3       1004  Data Science  Skills â¢ R â¢ Python â¢ SAP HANA â¢ Table...\n",
       "4       1005  Data Science  Education Details \\r\\n MCA   YMCAUST,  Faridab..."
      ]
     },
     "execution_count": 51,
     "metadata": {},
     "output_type": "execute_result"
    }
   ],
   "source": [
    "test_data.head()"
   ]
  },
  {
   "cell_type": "code",
   "execution_count": 52,
   "id": "635fadc9",
   "metadata": {},
   "outputs": [],
   "source": [
    "need_data=test_data.loc[test_data[\"Category\"]==label]"
   ]
  },
  {
   "cell_type": "code",
   "execution_count": 64,
   "id": "a14070d8",
   "metadata": {},
   "outputs": [],
   "source": [
    "need_data.reset_index(drop=True,inplace=True)"
   ]
  },
  {
   "cell_type": "code",
   "execution_count": 65,
   "id": "a92f600f",
   "metadata": {},
   "outputs": [
    {
     "data": {
      "text/plain": [
       "44"
      ]
     },
     "execution_count": 65,
     "metadata": {},
     "output_type": "execute_result"
    }
   ],
   "source": [
    "need_data.shape[0]"
   ]
  },
  {
   "cell_type": "markdown",
   "id": "b997009a",
   "metadata": {},
   "source": [
    "### Cosine Similarity"
   ]
  },
  {
   "cell_type": "code",
   "execution_count": 66,
   "id": "530f31cd",
   "metadata": {},
   "outputs": [],
   "source": [
    "from sklearn.feature_extraction.text import CountVectorizer\n",
    "\n",
    "def cosine_similarity(x, y):\n",
    "    \n",
    "    # Ensure length of x and y are the same\n",
    "    if len(x) != len(y) :\n",
    "        return None\n",
    "    \n",
    "    # Compute the dot product between x and y\n",
    "    dot_product = np.dot(x, y)\n",
    "    \n",
    "    # Compute the L2 norms (magnitudes) of x and y\n",
    "    magnitude_x = np.sqrt(np.sum(x**2)) \n",
    "    magnitude_y = np.sqrt(np.sum(y**2))\n",
    "    \n",
    "    # Compute the cosine similarity\n",
    "    cosine_similarity = dot_product / (magnitude_x * magnitude_y)\n",
    "    \n",
    "    return cosine_similarity"
   ]
  },
  {
   "cell_type": "code",
   "execution_count": 67,
   "id": "d5de56fd",
   "metadata": {},
   "outputs": [],
   "source": [
    "input_data=pd.DataFrame([input_string],columns=[\"input\"])"
   ]
  },
  {
   "cell_type": "code",
   "execution_count": 68,
   "id": "a80f20c2",
   "metadata": {},
   "outputs": [
    {
     "data": {
      "text/html": [
       "<div>\n",
       "<style scoped>\n",
       "    .dataframe tbody tr th:only-of-type {\n",
       "        vertical-align: middle;\n",
       "    }\n",
       "\n",
       "    .dataframe tbody tr th {\n",
       "        vertical-align: top;\n",
       "    }\n",
       "\n",
       "    .dataframe thead th {\n",
       "        text-align: right;\n",
       "    }\n",
       "</style>\n",
       "<table border=\"1\" class=\"dataframe\">\n",
       "  <thead>\n",
       "    <tr style=\"text-align: right;\">\n",
       "      <th></th>\n",
       "      <th>input</th>\n",
       "    </tr>\n",
       "  </thead>\n",
       "  <tbody>\n",
       "    <tr>\n",
       "      <th>0</th>\n",
       "      <td>software bachelor management payroll settlemen...</td>\n",
       "    </tr>\n",
       "  </tbody>\n",
       "</table>\n",
       "</div>"
      ],
      "text/plain": [
       "                                               input\n",
       "0  software bachelor management payroll settlemen..."
      ]
     },
     "execution_count": 68,
     "metadata": {},
     "output_type": "execute_result"
    }
   ],
   "source": [
    "input_data"
   ]
  },
  {
   "cell_type": "code",
   "execution_count": 69,
   "id": "3fbfe0c5",
   "metadata": {},
   "outputs": [
    {
     "data": {
      "text/plain": [
       "(1, 1)"
      ]
     },
     "execution_count": 69,
     "metadata": {},
     "output_type": "execute_result"
    }
   ],
   "source": [
    "input_data.shape"
   ]
  },
  {
   "cell_type": "code",
   "execution_count": 72,
   "id": "007d2f75",
   "metadata": {},
   "outputs": [],
   "source": [
    "s_values=[]\n",
    "for i in range(need_data.shape[0]):\n",
    "    corpus=[input_data[\"input\"][0], need_data[\"Resume\"][i]]\n",
    "    X = CountVectorizer().fit_transform(corpus).toarray()\n",
    "    sims = cosine_similarity(X[0], X[1])\n",
    "    s_values.append(sims)"
   ]
  },
  {
   "cell_type": "code",
   "execution_count": 73,
   "id": "c6a5b1b8",
   "metadata": {},
   "outputs": [],
   "source": [
    "need_data[\"probability_score\"]=s_values"
   ]
  },
  {
   "cell_type": "code",
   "execution_count": 74,
   "id": "0d994b43",
   "metadata": {},
   "outputs": [],
   "source": [
    "sorted_data = need_data.sort_values([\"probability_score\"], ascending=False)"
   ]
  },
  {
   "cell_type": "code",
   "execution_count": 75,
   "id": "998a1ec8",
   "metadata": {},
   "outputs": [],
   "source": [
    "sorted_data=sorted_data.reset_index(drop=True).head(10)"
   ]
  },
  {
   "cell_type": "code",
   "execution_count": 76,
   "id": "a47296d0",
   "metadata": {},
   "outputs": [],
   "source": [
    "ID_list=list(sorted_data[\"Resume_ID\"])"
   ]
  },
  {
   "cell_type": "code",
   "execution_count": 77,
   "id": "752e5ddf",
   "metadata": {},
   "outputs": [
    {
     "name": "stdout",
     "output_type": "stream",
     "text": [
      "[1064, 1042, 1075, 1053, 1059, 1070, 1081, 1048, 1084, 1051]\n"
     ]
    }
   ],
   "source": [
    "print(ID_list)"
   ]
  },
  {
   "cell_type": "markdown",
   "id": "42e20788",
   "metadata": {},
   "source": [
    "### Loading User Info Data"
   ]
  },
  {
   "cell_type": "code",
   "execution_count": 78,
   "id": "23b014ac",
   "metadata": {},
   "outputs": [],
   "source": [
    "hist=pd.read_csv('input/info.csv')"
   ]
  },
  {
   "cell_type": "code",
   "execution_count": 79,
   "id": "aaec9fd4",
   "metadata": {},
   "outputs": [
    {
     "data": {
      "text/plain": [
       "(962, 10)"
      ]
     },
     "execution_count": 79,
     "metadata": {},
     "output_type": "execute_result"
    }
   ],
   "source": [
    "hist.shape"
   ]
  },
  {
   "cell_type": "code",
   "execution_count": 80,
   "id": "9cf8ca75",
   "metadata": {},
   "outputs": [
    {
     "data": {
      "text/html": [
       "<div>\n",
       "<style scoped>\n",
       "    .dataframe tbody tr th:only-of-type {\n",
       "        vertical-align: middle;\n",
       "    }\n",
       "\n",
       "    .dataframe tbody tr th {\n",
       "        vertical-align: top;\n",
       "    }\n",
       "\n",
       "    .dataframe thead th {\n",
       "        text-align: right;\n",
       "    }\n",
       "</style>\n",
       "<table border=\"1\" class=\"dataframe\">\n",
       "  <thead>\n",
       "    <tr style=\"text-align: right;\">\n",
       "      <th></th>\n",
       "      <th>Resume_ID</th>\n",
       "      <th>City</th>\n",
       "      <th>State</th>\n",
       "      <th>Country</th>\n",
       "      <th>ZipCode</th>\n",
       "      <th>DegreeType</th>\n",
       "      <th>GraduationDate</th>\n",
       "      <th>WorkHistoryCount</th>\n",
       "      <th>TotalYearsExperience</th>\n",
       "      <th>CurrentlyEmployed</th>\n",
       "    </tr>\n",
       "  </thead>\n",
       "  <tbody>\n",
       "    <tr>\n",
       "      <th>0</th>\n",
       "      <td>1001</td>\n",
       "      <td>Arlington</td>\n",
       "      <td>TX</td>\n",
       "      <td>US</td>\n",
       "      <td>76013</td>\n",
       "      <td>High School</td>\n",
       "      <td>01-01-2006</td>\n",
       "      <td>3</td>\n",
       "      <td>6</td>\n",
       "      <td>Yes</td>\n",
       "    </tr>\n",
       "    <tr>\n",
       "      <th>1</th>\n",
       "      <td>1002</td>\n",
       "      <td>Des Moines</td>\n",
       "      <td>IA</td>\n",
       "      <td>US</td>\n",
       "      <td>50320</td>\n",
       "      <td>Associate's</td>\n",
       "      <td>01-02-2010</td>\n",
       "      <td>4</td>\n",
       "      <td>9</td>\n",
       "      <td>Yes</td>\n",
       "    </tr>\n",
       "    <tr>\n",
       "      <th>2</th>\n",
       "      <td>1003</td>\n",
       "      <td>Greenville</td>\n",
       "      <td>SC</td>\n",
       "      <td>US</td>\n",
       "      <td>29611</td>\n",
       "      <td>Bachelor's</td>\n",
       "      <td>01-05-2012</td>\n",
       "      <td>6</td>\n",
       "      <td>15</td>\n",
       "      <td>Yes</td>\n",
       "    </tr>\n",
       "    <tr>\n",
       "      <th>3</th>\n",
       "      <td>1004</td>\n",
       "      <td>Richboro</td>\n",
       "      <td>PA</td>\n",
       "      <td>US</td>\n",
       "      <td>18954</td>\n",
       "      <td>Bachelor's</td>\n",
       "      <td>01-01-1992</td>\n",
       "      <td>4</td>\n",
       "      <td>19</td>\n",
       "      <td>Yes</td>\n",
       "    </tr>\n",
       "    <tr>\n",
       "      <th>4</th>\n",
       "      <td>1005</td>\n",
       "      <td>Baltimore</td>\n",
       "      <td>MD</td>\n",
       "      <td>US</td>\n",
       "      <td>21239</td>\n",
       "      <td>Bachelor's</td>\n",
       "      <td>01-12-2012</td>\n",
       "      <td>4</td>\n",
       "      <td>9</td>\n",
       "      <td>No</td>\n",
       "    </tr>\n",
       "  </tbody>\n",
       "</table>\n",
       "</div>"
      ],
      "text/plain": [
       "   Resume_ID        City State Country ZipCode   DegreeType GraduationDate  \\\n",
       "0       1001   Arlington    TX      US   76013  High School     01-01-2006   \n",
       "1       1002  Des Moines    IA      US   50320  Associate's     01-02-2010   \n",
       "2       1003  Greenville    SC      US   29611   Bachelor's     01-05-2012   \n",
       "3       1004    Richboro    PA      US   18954   Bachelor's     01-01-1992   \n",
       "4       1005   Baltimore    MD      US   21239   Bachelor's     01-12-2012   \n",
       "\n",
       "   WorkHistoryCount  TotalYearsExperience CurrentlyEmployed  \n",
       "0                 3                     6               Yes  \n",
       "1                 4                     9               Yes  \n",
       "2                 6                    15               Yes  \n",
       "3                 4                    19               Yes  \n",
       "4                 4                     9                No  "
      ]
     },
     "execution_count": 80,
     "metadata": {},
     "output_type": "execute_result"
    }
   ],
   "source": [
    "hist.head()"
   ]
  },
  {
   "cell_type": "markdown",
   "id": "7842a66e",
   "metadata": {},
   "source": [
    "### Extracting model predicted class records"
   ]
  },
  {
   "cell_type": "code",
   "execution_count": 81,
   "id": "47e04f0b",
   "metadata": {},
   "outputs": [],
   "source": [
    "final_result=[]\n",
    "for i in range(len(ID_list)):\n",
    "    id_=ID_list[i]\n",
    "    for j in range(len(hist)):\n",
    "        hist_id=hist[\"Resume_ID\"][j]\n",
    "        if id_ ==hist_id:\n",
    "            result=hist.loc[hist[\"Resume_ID\"]==hist_id]\n",
    "            final_result.append(result)"
   ]
  },
  {
   "cell_type": "code",
   "execution_count": 82,
   "id": "44f8beb5",
   "metadata": {},
   "outputs": [],
   "source": [
    "fr=pd.concat(objs=final_result).reset_index(drop=True)"
   ]
  },
  {
   "cell_type": "code",
   "execution_count": 83,
   "id": "2e4b475b",
   "metadata": {},
   "outputs": [],
   "source": [
    "fr[[\"probability_score\",\"Category\"]]=sorted_data[[\"probability_score\",\"Category\"]]"
   ]
  },
  {
   "cell_type": "code",
   "execution_count": 84,
   "id": "4d6f2f96",
   "metadata": {},
   "outputs": [],
   "source": [
    "final_result=fr.drop(labels=[\"GraduationDate\",\"DegreeType\",\"WorkHistoryCount\"],axis=1)"
   ]
  },
  {
   "cell_type": "code",
   "execution_count": 85,
   "id": "eb1ef76a",
   "metadata": {},
   "outputs": [
    {
     "data": {
      "text/html": [
       "<div>\n",
       "<style scoped>\n",
       "    .dataframe tbody tr th:only-of-type {\n",
       "        vertical-align: middle;\n",
       "    }\n",
       "\n",
       "    .dataframe tbody tr th {\n",
       "        vertical-align: top;\n",
       "    }\n",
       "\n",
       "    .dataframe thead th {\n",
       "        text-align: right;\n",
       "    }\n",
       "</style>\n",
       "<table border=\"1\" class=\"dataframe\">\n",
       "  <thead>\n",
       "    <tr style=\"text-align: right;\">\n",
       "      <th></th>\n",
       "      <th>Resume_ID</th>\n",
       "      <th>City</th>\n",
       "      <th>State</th>\n",
       "      <th>Country</th>\n",
       "      <th>ZipCode</th>\n",
       "      <th>TotalYearsExperience</th>\n",
       "      <th>CurrentlyEmployed</th>\n",
       "      <th>probability_score</th>\n",
       "      <th>Category</th>\n",
       "    </tr>\n",
       "  </thead>\n",
       "  <tbody>\n",
       "    <tr>\n",
       "      <th>0</th>\n",
       "      <td>1064</td>\n",
       "      <td>Derby</td>\n",
       "      <td>KS</td>\n",
       "      <td>US</td>\n",
       "      <td>67037</td>\n",
       "      <td>7</td>\n",
       "      <td>Yes</td>\n",
       "      <td>0.280957</td>\n",
       "      <td>HR</td>\n",
       "    </tr>\n",
       "    <tr>\n",
       "      <th>1</th>\n",
       "      <td>1042</td>\n",
       "      <td>Lafayette</td>\n",
       "      <td>LA</td>\n",
       "      <td>US</td>\n",
       "      <td>70503</td>\n",
       "      <td>5</td>\n",
       "      <td>No</td>\n",
       "      <td>0.280957</td>\n",
       "      <td>HR</td>\n",
       "    </tr>\n",
       "    <tr>\n",
       "      <th>2</th>\n",
       "      <td>1075</td>\n",
       "      <td>Fort Worth</td>\n",
       "      <td>TX</td>\n",
       "      <td>US</td>\n",
       "      <td>76108</td>\n",
       "      <td>7</td>\n",
       "      <td>Yes</td>\n",
       "      <td>0.280957</td>\n",
       "      <td>HR</td>\n",
       "    </tr>\n",
       "    <tr>\n",
       "      <th>3</th>\n",
       "      <td>1053</td>\n",
       "      <td>Augusta</td>\n",
       "      <td>GA</td>\n",
       "      <td>US</td>\n",
       "      <td>30901</td>\n",
       "      <td>0</td>\n",
       "      <td>No</td>\n",
       "      <td>0.280957</td>\n",
       "      <td>HR</td>\n",
       "    </tr>\n",
       "    <tr>\n",
       "      <th>4</th>\n",
       "      <td>1059</td>\n",
       "      <td>Ecorse</td>\n",
       "      <td>MI</td>\n",
       "      <td>US</td>\n",
       "      <td>48229</td>\n",
       "      <td>8</td>\n",
       "      <td>Yes</td>\n",
       "      <td>0.069474</td>\n",
       "      <td>HR</td>\n",
       "    </tr>\n",
       "    <tr>\n",
       "      <th>5</th>\n",
       "      <td>1070</td>\n",
       "      <td>Euless</td>\n",
       "      <td>TX</td>\n",
       "      <td>US</td>\n",
       "      <td>76039</td>\n",
       "      <td>7</td>\n",
       "      <td>Yes</td>\n",
       "      <td>0.069474</td>\n",
       "      <td>HR</td>\n",
       "    </tr>\n",
       "    <tr>\n",
       "      <th>6</th>\n",
       "      <td>1081</td>\n",
       "      <td>Saginaw</td>\n",
       "      <td>TX</td>\n",
       "      <td>US</td>\n",
       "      <td>76179</td>\n",
       "      <td>21</td>\n",
       "      <td>No</td>\n",
       "      <td>0.069474</td>\n",
       "      <td>HR</td>\n",
       "    </tr>\n",
       "    <tr>\n",
       "      <th>7</th>\n",
       "      <td>1048</td>\n",
       "      <td>Bonner Springs</td>\n",
       "      <td>KS</td>\n",
       "      <td>US</td>\n",
       "      <td>66012</td>\n",
       "      <td>6</td>\n",
       "      <td>Yes</td>\n",
       "      <td>0.069474</td>\n",
       "      <td>HR</td>\n",
       "    </tr>\n",
       "    <tr>\n",
       "      <th>8</th>\n",
       "      <td>1084</td>\n",
       "      <td>Lexington</td>\n",
       "      <td>KY</td>\n",
       "      <td>US</td>\n",
       "      <td>40517</td>\n",
       "      <td>5</td>\n",
       "      <td>No</td>\n",
       "      <td>0.047140</td>\n",
       "      <td>HR</td>\n",
       "    </tr>\n",
       "    <tr>\n",
       "      <th>9</th>\n",
       "      <td>1051</td>\n",
       "      <td>Washington</td>\n",
       "      <td>DC</td>\n",
       "      <td>US</td>\n",
       "      <td>20012</td>\n",
       "      <td>5</td>\n",
       "      <td>Yes</td>\n",
       "      <td>0.047140</td>\n",
       "      <td>HR</td>\n",
       "    </tr>\n",
       "  </tbody>\n",
       "</table>\n",
       "</div>"
      ],
      "text/plain": [
       "   Resume_ID            City State Country ZipCode  TotalYearsExperience  \\\n",
       "0       1064           Derby    KS      US   67037                     7   \n",
       "1       1042       Lafayette    LA      US   70503                     5   \n",
       "2       1075      Fort Worth    TX      US   76108                     7   \n",
       "3       1053         Augusta    GA      US   30901                     0   \n",
       "4       1059          Ecorse    MI      US   48229                     8   \n",
       "5       1070          Euless    TX      US   76039                     7   \n",
       "6       1081         Saginaw    TX      US   76179                    21   \n",
       "7       1048  Bonner Springs    KS      US   66012                     6   \n",
       "8       1084       Lexington    KY      US   40517                     5   \n",
       "9       1051      Washington    DC      US   20012                     5   \n",
       "\n",
       "  CurrentlyEmployed  probability_score Category  \n",
       "0               Yes           0.280957       HR  \n",
       "1                No           0.280957       HR  \n",
       "2               Yes           0.280957       HR  \n",
       "3                No           0.280957       HR  \n",
       "4               Yes           0.069474       HR  \n",
       "5               Yes           0.069474       HR  \n",
       "6                No           0.069474       HR  \n",
       "7               Yes           0.069474       HR  \n",
       "8                No           0.047140       HR  \n",
       "9               Yes           0.047140       HR  "
      ]
     },
     "execution_count": 85,
     "metadata": {},
     "output_type": "execute_result"
    }
   ],
   "source": [
    "final_result"
   ]
  },
  {
   "cell_type": "markdown",
   "id": "17c86278",
   "metadata": {},
   "source": [
    "## Thank You"
   ]
  }
 ],
 "metadata": {
  "kernelspec": {
   "display_name": "Python 3 (ipykernel)",
   "language": "python",
   "name": "python3"
  },
  "language_info": {
   "codemirror_mode": {
    "name": "ipython",
    "version": 3
   },
   "file_extension": ".py",
   "mimetype": "text/x-python",
   "name": "python",
   "nbconvert_exporter": "python",
   "pygments_lexer": "ipython3",
   "version": "3.9.7"
  }
 },
 "nbformat": 4,
 "nbformat_minor": 5
}
